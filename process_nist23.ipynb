{
 "cells": [
  {
   "cell_type": "code",
   "execution_count": 2,
   "id": "initial_id",
   "metadata": {
    "collapsed": true,
    "ExecuteTime": {
     "end_time": "2024-05-14T17:50:37.095151Z",
     "start_time": "2024-05-14T17:50:31.183476Z"
    }
   },
   "outputs": [
    {
     "name": "stderr",
     "output_type": "stream",
     "text": [
      "/home/runzhong/mambaforge/envs/ms-main/lib/python3.8/site-packages/tqdm/auto.py:21: TqdmWarning: IProgress not found. Please update jupyter and ipywidgets. See https://ipywidgets.readthedocs.io/en/stable/user_install.html\n",
      "  from .autonotebook import tqdm as notebook_tqdm\n"
     ]
    }
   ],
   "source": [
    "from tqdm import tqdm\n",
    "from itertools import groupby\n"
   ]
  },
  {
   "cell_type": "code",
   "outputs": [
    {
     "name": "stdout",
     "output_type": "stream",
     "text": [
      "/mnt/home/runzhong/ms_collaborators/nist2023_gcms/raw\n"
     ]
    }
   ],
   "source": [
    "%cd /home/runzhong/ms_collaborators/nist2023_gcms/raw"
   ],
   "metadata": {
    "collapsed": false,
    "ExecuteTime": {
     "end_time": "2024-05-14T17:50:37.106633Z",
     "start_time": "2024-05-14T17:50:37.097923Z"
    }
   },
   "id": "dc54bdc2bad44677",
   "execution_count": 3
  },
  {
   "cell_type": "code",
   "outputs": [],
   "source": [
    "key_mapping = {\n",
    "    'Name': 'NAME',\n",
    "    'Notes': 'NOTES',\n",
    "    'Precursor_type': 'PRECURSOR TYPE',\n",
    "    'Spectrum_type': 'SPECTRUM TYPE',\n",
    "    'PrecursorMZ': 'PRECURSOR M/Z',\n",
    "    'Instrument_type': 'INSTRUMENT TYPE',\n",
    "    'Instrument': 'INSTRUMENT',\n",
    "    'Sample_inlet': 'SAMPLE INLET',\n",
    "    'Ionization': 'IONIZATION',\n",
    "    'Collision_gas': 'COLLISION GAS',\n",
    "    'Collision_energy': 'COLLISION ENERGY',\n",
    "    'Ion_mode': 'ION MODE',\n",
    "    'InChIKey': 'INCHIKEY',\n",
    "    'Synon': 'SYNONYMS',\n",
    "    'Formula': 'FORMULA',\n",
    "    'MW': 'MW',\n",
    "    'ExactMass': 'EXACT MASS',\n",
    "    'CAS#': 'CASNO',\n",
    "    'Related_CAS#': 'RELATED CASNO',\n",
    "    'NIST#': 'NISTNO',\n",
    "    'DB#': 'ID',\n",
    "    'Comments': 'COMMENT',\n",
    "    'Num Peaks': 'NUM PEAKS',\n",
    "    'In-source_voltage': 'IN-SOURCE VOLTAGE',\n",
    "    'msN_pathway': 'MSN PATHWAY',\n",
    "    'Peptide_sequence': 'PEPTIDE SEQUENCE',\n",
    "    'Peptide_mods': 'PEPTIDE MODS',\n",
    "    'Retention_index': 'RETENTION INDEX',\n",
    "    'COMPOUND_REP': 'COMPOUND REP',\n",
    "    'Salt': 'SALT',\n",
    "    'Salt/mix_CAS#': 'SALT/MIX CASNO',\n",
    "    'Known_impurity': 'KNOWN IMPURITY',\n",
    "}\n",
    "\n",
    "def normalize_text(input_text):\n",
    "    # Replace specific sequences with a consistent representation\n",
    "    replacements = [\n",
    "        r'¨’', '.beta.',\n",
    "        r'¨€', '.alpha.',\n",
    "        r'?', '.gamma.', '.delta.', '.epsilon.', r'.+/-.', '.mu.', '.pi.', '.sigma.',\n",
    "        r'¨Ί', '.omega.',\n",
    "        r'¨Ή', '.eta.',\n",
    "        r'¨',\n",
    "    ]\n",
    "    for old in replacements:\n",
    "        input_text = input_text.replace(old, '?')\n",
    "    input_text = ' '.join(input_text.split()) # replace multiple spaces and remove trailing spaces\n",
    "    return input_text"
   ],
   "metadata": {
    "collapsed": false,
    "ExecuteTime": {
     "end_time": "2024-05-14T18:01:29.731151Z",
     "start_time": "2024-05-14T18:01:29.723412Z"
    }
   },
   "id": "7ffcc180ae123899",
   "execution_count": 31
  },
  {
   "cell_type": "code",
   "outputs": [
    {
     "name": "stdout",
     "output_type": "stream",
     "text": [
      "Processing eims_100k_part1.SDF & eims_100k_part1.MSPEC\n"
     ]
    },
    {
     "name": "stderr",
     "output_type": "stream",
     "text": [
      "42026it [00:08, 4443.63it/s]"
     ]
    },
    {
     "name": "stdout",
     "output_type": "stream",
     "text": [
      "Warning: Unmatched entries. sdf_name: 3,13-Dihydroxy-5,8,11,18,23-pentaoxa-1,15-diazabicyclo[13.5.5]pentacosane spec_name: Krypton sdf_index 41620 spec_index 41620\n"
     ]
    },
    {
     "name": "stderr",
     "output_type": "stream",
     "text": [
      "195367it [00:45, 8503.96it/s]"
     ]
    },
    {
     "name": "stdout",
     "output_type": "stream",
     "text": [
      "Warning: Unmatched entries. sdf_name: 3-Butyn-1-ol spec_name: Argon sdf_index 194900 spec_index 194902\n"
     ]
    },
    {
     "name": "stderr",
     "output_type": "stream",
     "text": [
      "199992it [00:46, 4314.83it/s]\n"
     ]
    },
    {
     "name": "stdout",
     "output_type": "stream",
     "text": [
      "Processing eims_100k_part2.SDF & eims_100k_part2.MSPEC\n"
     ]
    },
    {
     "name": "stderr",
     "output_type": "stream",
     "text": [
      "73106it [00:14, 5061.54it/s]"
     ]
    },
    {
     "name": "stdout",
     "output_type": "stream",
     "text": [
      "Warning: Unmatched entries. sdf_name: 1,6-Heptadiene, 2,6-bis(4-methylphenyl)- spec_name: Xenon sdf_index 72178 spec_index 72178\n"
     ]
    },
    {
     "name": "stderr",
     "output_type": "stream",
     "text": [
      "199996it [00:39, 5074.30it/s]\n"
     ]
    },
    {
     "name": "stdout",
     "output_type": "stream",
     "text": [
      "Processing eims_100k_part3.SDF & eims_100k_part3.MSPEC\n"
     ]
    },
    {
     "name": "stderr",
     "output_type": "stream",
     "text": [
      "199998it [00:44, 4465.96it/s]\n"
     ]
    },
    {
     "name": "stdout",
     "output_type": "stream",
     "text": [
      "Processing eims_100k_part4.SDF & eims_100k_part4.MSPEC\n"
     ]
    },
    {
     "name": "stderr",
     "output_type": "stream",
     "text": [
      "94200it [00:25, 3656.52it/s]\n"
     ]
    }
   ],
   "source": [
    "# LC-MS/MS\n",
    "# sdf_files = [f'nist2023_part{x}_100k.SDF' for x in range(1, 12)] + [f'nist2023_hr#2_part{x}_100k.SDF' for x in range(1, 10)] + ['nist2023_ap.SDF']\n",
    "# spec_files = [f'nist2023_part{x}_100k.MSPEC' for x in range(1, 12)] + [f'nist2023_hr#2_part{x}_100k.MSPEC' for x in range(1, 10)] + ['nist2023_ap.MSPEC']\n",
    "# gcms = False\n",
    "\n",
    "# GC-MS\n",
    "sdf_files = [f'eims_100k_part{x}.SDF' for x in range(1, 5)]\n",
    "spec_files = [f'eims_100k_part{x}.MSPEC' for x in range(1, 5)]\n",
    "gcms = True\n",
    "\n",
    "new_lines = []\n",
    "\n",
    "for sdf_file, spec_file in zip(sdf_files, spec_files):\n",
    "    print('Processing', sdf_file, '&', spec_file)\n",
    "    with open(sdf_file, 'r', encoding='iso-8859-7') as sdf_fp, \\\n",
    "        open(spec_file, 'r', encoding='iso-8859-7') as spec_fp:\n",
    "    \n",
    "        # Initialize the iterator for grouped lines in spec file\n",
    "        spec_iter = enumerate(groupby(spec_fp, key=lambda x: \"\\n\" == x))\n",
    "        \n",
    "        # Iterate over groups in SDF file\n",
    "        for i, (is_true, sdf_lines) in tqdm(enumerate(groupby(sdf_fp, key=lambda x: \"$$\" in x))):\n",
    "            if is_true:\n",
    "                continue\n",
    "            else:\n",
    "                sdf_lines = list(sdf_lines)\n",
    "            sdf_name = normalize_text(sdf_lines[0].strip())\n",
    "            if 'M  END' not in sdf_lines[-1]:\n",
    "                sdf_lines.append('M  END\\n')\n",
    "            \n",
    "            # Look for the corresponding entry in .MSPEC file\n",
    "            while True:\n",
    "                try:\n",
    "                    j, (is_true, spec_lines) = next(spec_iter)\n",
    "                    if is_true:\n",
    "                        continue\n",
    "                    spec_lines = list(spec_lines)\n",
    "                    spec_name = normalize_text(spec_lines[0].split(':', 1)[-1].strip())\n",
    "                    if sdf_name in spec_name or spec_name in sdf_name: # matched\n",
    "                        spec_info = spec_lines\n",
    "                        break\n",
    "                    else:\n",
    "                        print('Warning: Unmatched entries.', 'sdf_name:', sdf_name, 'spec_name:', spec_name, 'sdf_index', i, 'spec_index', j)\n",
    "                except StopIteration:\n",
    "                    spec_info = []\n",
    "        \n",
    "            # Process the .MSPEC file\n",
    "            if len(spec_info) > 0:\n",
    "                meta_dict = {}\n",
    "                for is_true, info_lines in groupby(spec_info, key=lambda x: ':' in x):\n",
    "                    if is_true:\n",
    "                        for line in info_lines:\n",
    "                            if '#' in line and len(line.split(':')) > 2: # multiple IDs in one line\n",
    "                                entries = line.strip().split(';')\n",
    "                            else:\n",
    "                                entries = [line.strip()]\n",
    "                            for l in entries:\n",
    "                                key, val = l.split(':', 1)\n",
    "                                key = key_mapping[key.strip()]\n",
    "                                meta_dict.setdefault(key, []).append(f'{val.strip()}\\n')\n",
    "        \n",
    "                    else:\n",
    "                        key = 'MASS SPECTRAL PEAKS'\n",
    "                        if gcms:\n",
    "                            ms_list = []\n",
    "                            for line in info_lines:\n",
    "                                for entry in line.split(';'):\n",
    "                                    split = entry.split()\n",
    "                                    if len(split) >= 2:\n",
    "                                        ms_list.append(f'{split[0]} {split[1]}\\n')\n",
    "                            meta_dict[key] = ms_list\n",
    "                        else:\n",
    "                            meta_dict[key] = [f'{line.split()[0]} {line.split()[1]}\\n' for line in info_lines]\n",
    "            \n",
    "                append_lines = [f'> <{k}>\\n' + ''.join(v) + '\\n' for k, v in meta_dict.items()]\n",
    "                append_lines.append('$$$$\\n')\n",
    "        \n",
    "            new_lines += sdf_lines + append_lines"
   ],
   "metadata": {
    "collapsed": false,
    "ExecuteTime": {
     "end_time": "2024-05-14T18:55:28.118744Z",
     "start_time": "2024-05-14T18:52:51.734542Z"
    }
   },
   "id": "52e4f6890de64a05",
   "execution_count": 56
  },
  {
   "cell_type": "code",
   "outputs": [
    {
     "data": {
      "text/plain": "(347093, 347093, 347093, 347093)"
     },
     "execution_count": 37,
     "metadata": {},
     "output_type": "execute_result"
    }
   ],
   "source": [
    "cnt1 = 0\n",
    "cnt2 = 0\n",
    "cnt3 = 0\n",
    "cnt4 = 0\n",
    "for line in new_lines:\n",
    "    if 'M  END' in line:\n",
    "        cnt1 += 1\n",
    "    if '$$$$' in line:\n",
    "        cnt4 += 1\n",
    "    if '<NAME>' in line:\n",
    "        cnt2 += 1\n",
    "    if '<MASS SPECTRAL PEAKS>' in line:\n",
    "        cnt3 += 1\n",
    "(cnt1, cnt2, cnt3, cnt4)"
   ],
   "metadata": {
    "collapsed": false,
    "ExecuteTime": {
     "end_time": "2024-05-14T18:18:03.784300Z",
     "start_time": "2024-05-14T18:17:51.177596Z"
    }
   },
   "id": "6b947d372b86579d",
   "execution_count": 37
  },
  {
   "cell_type": "code",
   "outputs": [
    {
     "name": "stderr",
     "output_type": "stream",
     "text": [
      "100%|██████████| 20573981/20573981 [00:27<00:00, 741580.57it/s] \n"
     ]
    }
   ],
   "source": [
    "with open('gcms_nist23.SDF', 'w') as file:\n",
    "    for s in tqdm(new_lines):\n",
    "        file.write(s)  # Write each string without a newline"
   ],
   "metadata": {
    "collapsed": false,
    "ExecuteTime": {
     "end_time": "2024-05-14T18:55:59.918953Z",
     "start_time": "2024-05-14T18:55:31.528389Z"
    }
   },
   "id": "62e8a38848840bff",
   "execution_count": 57
  }
 ],
 "metadata": {
  "kernelspec": {
   "name": "ms-main",
   "language": "python",
   "display_name": "Python (ms-main)"
  },
  "language_info": {
   "codemirror_mode": {
    "name": "ipython",
    "version": 2
   },
   "file_extension": ".py",
   "mimetype": "text/x-python",
   "name": "python",
   "nbconvert_exporter": "python",
   "pygments_lexer": "ipython2",
   "version": "2.7.6"
  }
 },
 "nbformat": 4,
 "nbformat_minor": 5
}
